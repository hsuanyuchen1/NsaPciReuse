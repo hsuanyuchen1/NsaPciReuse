{
 "cells": [
  {
   "cell_type": "code",
   "execution_count": 153,
   "metadata": {},
   "outputs": [],
   "source": [
    "import re\n",
    "import pandas as pd\n",
    "import numpy as np\n",
    "from sklearn.cluster import DBSCAN"
   ]
  },
  {
   "cell_type": "code",
   "execution_count": 154,
   "metadata": {},
   "outputs": [],
   "source": [
    "#set parameters\n",
    "rsrpThr = -110\n",
    "minDist = 0.02\n",
    "minPts = 5"
   ]
  },
  {
   "cell_type": "code",
   "execution_count": 155,
   "metadata": {},
   "outputs": [],
   "source": [
    "#directories\n",
    "inputFile = r\"c:/Work/Operators/scanner/TaoYuan.xlsx\""
   ]
  },
  {
   "cell_type": "code",
   "execution_count": 156,
   "metadata": {},
   "outputs": [],
   "source": [
    "#read excel\n",
    "scanner = pd.read_excel(inputFile, sheet_name=\"Series Formatted Data\")"
   ]
  },
  {
   "cell_type": "code",
   "execution_count": 157,
   "metadata": {},
   "outputs": [],
   "source": [
    "#change column names: only keep  PCI, RSRP and the corresponding ARFCN\n",
    "oldColName = scanner.columns\n",
    "pattern = r\"(NR_Scan_|_SortedBy_RSRP_for_NRARFCN_|_0|SS_)\"\n",
    "newColName = {}\n",
    "\n",
    "#create oldColName to newColName mapping dictionary\n",
    "for colName in oldColName:\n",
    "    temp = re.sub(pattern, \"\", colName)\n",
    "    newColName[colName] = temp\n",
    "\n",
    "#rename coluimn names\n",
    "scanner = scanner.rename(columns = newColName)"
   ]
  },
  {
   "cell_type": "code",
   "execution_count": 158,
   "metadata": {},
   "outputs": [],
   "source": [
    "#wide to long\n",
    "scannerL = pd.wide_to_long(scanner, ['PCI', 'RSRP'], j = \"ARFCN\", i=[\"Longitude\", \"Latitude\"])\n",
    "#scannerL.head()"
   ]
  },
  {
   "cell_type": "code",
   "execution_count": 159,
   "metadata": {},
   "outputs": [],
   "source": [
    "#remove NaN\n",
    "scannerL = scannerL.dropna(axis=0,how=\"any\")\n",
    "#scannerL.describe()"
   ]
  },
  {
   "cell_type": "code",
   "execution_count": 160,
   "metadata": {},
   "outputs": [],
   "source": [
    "#set lon, lat, ARFCN to column\n",
    "scannerL = scannerL.reset_index(['Longitude', 'Latitude', 'ARFCN'])\n",
    "#scannerL.head()"
   ]
  },
  {
   "cell_type": "code",
   "execution_count": 161,
   "metadata": {},
   "outputs": [
    {
     "data": {
      "text/plain": [
       "array([631000, 431570, 625324, 636000], dtype=int64)"
      ]
     },
     "execution_count": 161,
     "metadata": {},
     "output_type": "execute_result"
    }
   ],
   "source": [
    "scannerL['ARFCN'].unique()"
   ]
  },
  {
   "cell_type": "code",
   "execution_count": 162,
   "metadata": {},
   "outputs": [],
   "source": [
    "scannerLfRsrp = scannerL[scannerL['RSRP'] > rsrpThr ]\n",
    "#scannerLfRsrp.describe()"
   ]
  },
  {
   "cell_type": "code",
   "execution_count": 163,
   "metadata": {},
   "outputs": [
    {
     "data": {
      "text/html": [
       "<div>\n",
       "<style scoped>\n",
       "    .dataframe tbody tr th:only-of-type {\n",
       "        vertical-align: middle;\n",
       "    }\n",
       "\n",
       "    .dataframe tbody tr th {\n",
       "        vertical-align: top;\n",
       "    }\n",
       "\n",
       "    .dataframe thead th {\n",
       "        text-align: right;\n",
       "    }\n",
       "</style>\n",
       "<table border=\"1\" class=\"dataframe\">\n",
       "  <thead>\n",
       "    <tr style=\"text-align: right;\">\n",
       "      <th></th>\n",
       "      <th>ARFCN</th>\n",
       "      <th>uPCI</th>\n",
       "    </tr>\n",
       "  </thead>\n",
       "  <tbody>\n",
       "    <tr>\n",
       "      <th>0</th>\n",
       "      <td>431570</td>\n",
       "      <td>15</td>\n",
       "    </tr>\n",
       "    <tr>\n",
       "      <th>1</th>\n",
       "      <td>625324</td>\n",
       "      <td>81</td>\n",
       "    </tr>\n",
       "    <tr>\n",
       "      <th>2</th>\n",
       "      <td>631000</td>\n",
       "      <td>137</td>\n",
       "    </tr>\n",
       "    <tr>\n",
       "      <th>3</th>\n",
       "      <td>636000</td>\n",
       "      <td>44</td>\n",
       "    </tr>\n",
       "  </tbody>\n",
       "</table>\n",
       "</div>"
      ],
      "text/plain": [
       "    ARFCN  uPCI\n",
       "0  431570    15\n",
       "1  625324    81\n",
       "2  631000   137\n",
       "3  636000    44"
      ]
     },
     "execution_count": 163,
     "metadata": {},
     "output_type": "execute_result"
    }
   ],
   "source": [
    "uPCI = scannerL.groupby('ARFCN').PCI.nunique()\n",
    "uPCI = pd.DataFrame(uPCI).reset_index()\n",
    "uPCI = uPCI.rename(columns = {'ARFCN': 'ARFCN', 'PCI': 'uPCI'})\n",
    "uPCI"
   ]
  },
  {
   "cell_type": "code",
   "execution_count": 164,
   "metadata": {},
   "outputs": [
    {
     "data": {
      "text/html": [
       "<div>\n",
       "<style scoped>\n",
       "    .dataframe tbody tr th:only-of-type {\n",
       "        vertical-align: middle;\n",
       "    }\n",
       "\n",
       "    .dataframe tbody tr th {\n",
       "        vertical-align: top;\n",
       "    }\n",
       "\n",
       "    .dataframe thead th {\n",
       "        text-align: right;\n",
       "    }\n",
       "</style>\n",
       "<table border=\"1\" class=\"dataframe\">\n",
       "  <thead>\n",
       "    <tr style=\"text-align: right;\">\n",
       "      <th></th>\n",
       "      <th>ARFCN</th>\n",
       "      <th>uPCIfRSRP</th>\n",
       "    </tr>\n",
       "  </thead>\n",
       "  <tbody>\n",
       "    <tr>\n",
       "      <th>0</th>\n",
       "      <td>431570</td>\n",
       "      <td>15</td>\n",
       "    </tr>\n",
       "    <tr>\n",
       "      <th>1</th>\n",
       "      <td>625324</td>\n",
       "      <td>75</td>\n",
       "    </tr>\n",
       "    <tr>\n",
       "      <th>2</th>\n",
       "      <td>631000</td>\n",
       "      <td>123</td>\n",
       "    </tr>\n",
       "    <tr>\n",
       "      <th>3</th>\n",
       "      <td>636000</td>\n",
       "      <td>5</td>\n",
       "    </tr>\n",
       "  </tbody>\n",
       "</table>\n",
       "</div>"
      ],
      "text/plain": [
       "    ARFCN  uPCIfRSRP\n",
       "0  431570         15\n",
       "1  625324         75\n",
       "2  631000        123\n",
       "3  636000          5"
      ]
     },
     "execution_count": 164,
     "metadata": {},
     "output_type": "execute_result"
    }
   ],
   "source": [
    "uPCIfRsrp = scannerLfRsrp.groupby('ARFCN').PCI.nunique()\n",
    "uPCIfRsrp = pd.DataFrame(uPCIfRsrp).reset_index()\n",
    "uPCIfRsrp = uPCIfRsrp.rename(columns = {'ARFCN': 'ARFCN', 'PCI': 'uPCIfRSRP'})\n",
    "uPCIfRsrp"
   ]
  },
  {
   "cell_type": "code",
   "execution_count": 165,
   "metadata": {},
   "outputs": [],
   "source": [
    "tList = list()\n",
    "\n",
    "#do DBSCAN on operaterBand and PCI level\n",
    "for oprBand in scannerLfRsrp['ARFCN'].unique():\n",
    "    #get unique PCI on ARFCN level\n",
    "    for tpci in scannerLfRsrp[scannerLfRsrp['ARFCN'] == oprBand]['PCI'].unique():\n",
    "        temp = scannerLfRsrp[(scannerLfRsrp['ARFCN'] == oprBand) & (scannerLfRsrp['PCI'] == tpci)]\n",
    "        #DBSCAN\n",
    "        db = DBSCAN(eps = minDist, min_samples=minPts).fit(temp[['Latitude', 'Longitude']])\n",
    "        tdf = pd.concat([temp.reset_index(drop=True), pd.DataFrame(db.labels_, columns= [\"clusterID\"])], axis=1)\n",
    "        tList.append(tdf)\n",
    "        \n",
    "#Merge all the list into one dataframe\n",
    "tMerge = pd.concat(tList)            \n",
    "\n",
    "#remove non clustered data points where clusterID = -1\n",
    "tMergeCluster = tMerge[tMerge['clusterID'] > -1]\n"
   ]
  },
  {
   "cell_type": "code",
   "execution_count": 166,
   "metadata": {},
   "outputs": [
    {
     "data": {
      "text/html": [
       "<div>\n",
       "<style scoped>\n",
       "    .dataframe tbody tr th:only-of-type {\n",
       "        vertical-align: middle;\n",
       "    }\n",
       "\n",
       "    .dataframe tbody tr th {\n",
       "        vertical-align: top;\n",
       "    }\n",
       "\n",
       "    .dataframe thead th {\n",
       "        text-align: right;\n",
       "    }\n",
       "</style>\n",
       "<table border=\"1\" class=\"dataframe\">\n",
       "  <thead>\n",
       "    <tr style=\"text-align: right;\">\n",
       "      <th></th>\n",
       "      <th>Longitude</th>\n",
       "      <th>Latitude</th>\n",
       "      <th>ARFCN</th>\n",
       "      <th>Distance</th>\n",
       "      <th>Message</th>\n",
       "      <th>PCI</th>\n",
       "      <th>RSRP</th>\n",
       "      <th>clusterID</th>\n",
       "    </tr>\n",
       "  </thead>\n",
       "  <tbody>\n",
       "    <tr>\n",
       "      <th>count</th>\n",
       "      <td>20381.000000</td>\n",
       "      <td>20381.000000</td>\n",
       "      <td>20381.000000</td>\n",
       "      <td>20381.000000</td>\n",
       "      <td>20381.000000</td>\n",
       "      <td>20381.000000</td>\n",
       "      <td>20381.000000</td>\n",
       "      <td>20381.000000</td>\n",
       "    </tr>\n",
       "    <tr>\n",
       "      <th>mean</th>\n",
       "      <td>121.272303</td>\n",
       "      <td>24.984075</td>\n",
       "      <td>618420.052598</td>\n",
       "      <td>14251.421147</td>\n",
       "      <td>243316.375350</td>\n",
       "      <td>220.062607</td>\n",
       "      <td>-91.456359</td>\n",
       "      <td>0.156715</td>\n",
       "    </tr>\n",
       "    <tr>\n",
       "      <th>std</th>\n",
       "      <td>0.043956</td>\n",
       "      <td>0.036154</td>\n",
       "      <td>43069.725562</td>\n",
       "      <td>8425.526152</td>\n",
       "      <td>156586.194237</td>\n",
       "      <td>138.721242</td>\n",
       "      <td>13.080951</td>\n",
       "      <td>0.363540</td>\n",
       "    </tr>\n",
       "    <tr>\n",
       "      <th>min</th>\n",
       "      <td>121.062810</td>\n",
       "      <td>24.818860</td>\n",
       "      <td>431570.000000</td>\n",
       "      <td>0.217942</td>\n",
       "      <td>19547.000000</td>\n",
       "      <td>0.000000</td>\n",
       "      <td>-109.980000</td>\n",
       "      <td>0.000000</td>\n",
       "    </tr>\n",
       "    <tr>\n",
       "      <th>25%</th>\n",
       "      <td>121.228960</td>\n",
       "      <td>24.958440</td>\n",
       "      <td>625324.000000</td>\n",
       "      <td>7810.861816</td>\n",
       "      <td>121194.000000</td>\n",
       "      <td>90.000000</td>\n",
       "      <td>-102.900000</td>\n",
       "      <td>0.000000</td>\n",
       "    </tr>\n",
       "    <tr>\n",
       "      <th>50%</th>\n",
       "      <td>121.294140</td>\n",
       "      <td>24.987810</td>\n",
       "      <td>625324.000000</td>\n",
       "      <td>13428.709961</td>\n",
       "      <td>227316.000000</td>\n",
       "      <td>220.000000</td>\n",
       "      <td>-93.300000</td>\n",
       "      <td>0.000000</td>\n",
       "    </tr>\n",
       "    <tr>\n",
       "      <th>75%</th>\n",
       "      <td>121.309790</td>\n",
       "      <td>25.001360</td>\n",
       "      <td>631000.000000</td>\n",
       "      <td>20341.585938</td>\n",
       "      <td>311872.000000</td>\n",
       "      <td>344.000000</td>\n",
       "      <td>-81.330000</td>\n",
       "      <td>0.000000</td>\n",
       "    </tr>\n",
       "    <tr>\n",
       "      <th>max</th>\n",
       "      <td>121.406160</td>\n",
       "      <td>25.110660</td>\n",
       "      <td>636000.000000</td>\n",
       "      <td>41313.558594</td>\n",
       "      <td>598156.000000</td>\n",
       "      <td>848.000000</td>\n",
       "      <td>-43.600000</td>\n",
       "      <td>1.000000</td>\n",
       "    </tr>\n",
       "  </tbody>\n",
       "</table>\n",
       "</div>"
      ],
      "text/plain": [
       "          Longitude      Latitude          ARFCN      Distance        Message  \\\n",
       "count  20381.000000  20381.000000   20381.000000  20381.000000   20381.000000   \n",
       "mean     121.272303     24.984075  618420.052598  14251.421147  243316.375350   \n",
       "std        0.043956      0.036154   43069.725562   8425.526152  156586.194237   \n",
       "min      121.062810     24.818860  431570.000000      0.217942   19547.000000   \n",
       "25%      121.228960     24.958440  625324.000000   7810.861816  121194.000000   \n",
       "50%      121.294140     24.987810  625324.000000  13428.709961  227316.000000   \n",
       "75%      121.309790     25.001360  631000.000000  20341.585938  311872.000000   \n",
       "max      121.406160     25.110660  636000.000000  41313.558594  598156.000000   \n",
       "\n",
       "                PCI          RSRP     clusterID  \n",
       "count  20381.000000  20381.000000  20381.000000  \n",
       "mean     220.062607    -91.456359      0.156715  \n",
       "std      138.721242     13.080951      0.363540  \n",
       "min        0.000000   -109.980000      0.000000  \n",
       "25%       90.000000   -102.900000      0.000000  \n",
       "50%      220.000000    -93.300000      0.000000  \n",
       "75%      344.000000    -81.330000      0.000000  \n",
       "max      848.000000    -43.600000      1.000000  "
      ]
     },
     "execution_count": 166,
     "metadata": {},
     "output_type": "execute_result"
    }
   ],
   "source": [
    "tMergeCluster.describe()"
   ]
  },
  {
   "cell_type": "code",
   "execution_count": 167,
   "metadata": {
    "scrolled": true
   },
   "outputs": [],
   "source": [
    "#tMergeCluster['clusterID'] =  tMergeCluster['clusterID'] + 1"
   ]
  },
  {
   "cell_type": "code",
   "execution_count": 194,
   "metadata": {
    "scrolled": true
   },
   "outputs": [
    {
     "data": {
      "text/html": [
       "<div>\n",
       "<style scoped>\n",
       "    .dataframe tbody tr th:only-of-type {\n",
       "        vertical-align: middle;\n",
       "    }\n",
       "\n",
       "    .dataframe tbody tr th {\n",
       "        vertical-align: top;\n",
       "    }\n",
       "\n",
       "    .dataframe thead th {\n",
       "        text-align: right;\n",
       "    }\n",
       "</style>\n",
       "<table border=\"1\" class=\"dataframe\">\n",
       "  <thead>\n",
       "    <tr style=\"text-align: right;\">\n",
       "      <th></th>\n",
       "      <th>ARFCN</th>\n",
       "      <th>PCI</th>\n",
       "      <th>clusterID</th>\n",
       "    </tr>\n",
       "  </thead>\n",
       "  <tbody>\n",
       "  </tbody>\n",
       "</table>\n",
       "</div>"
      ],
      "text/plain": [
       "Empty DataFrame\n",
       "Columns: [ARFCN, PCI, clusterID]\n",
       "Index: []"
      ]
     },
     "execution_count": 194,
     "metadata": {},
     "output_type": "execute_result"
    }
   ],
   "source": [
    "#calculate cell count by operatorBand \n",
    "#cellCount =  tMergeCluster.groupby(['ARFCN', 'PCI']).clusterID.nunique().reset_index().groupby('ARFCN').clusterID.count().reset_index()\n",
    "cellCount =  tMergeCluster.groupby(['ARFCN', 'PCI']).clusterID.nunique().reset_index()\n",
    "cellCount[cellCount['ARFCN'] == 63600]"
   ]
  },
  {
   "cell_type": "code",
   "execution_count": 191,
   "metadata": {},
   "outputs": [
    {
     "data": {
      "text/plain": [
       "ARFCN\n",
       "431570     14\n",
       "625324     76\n",
       "631000    123\n",
       "636000      2\n",
       "Name: clusterID, dtype: int64"
      ]
     },
     "execution_count": 191,
     "metadata": {},
     "output_type": "execute_result"
    }
   ],
   "source": [
    "cellCount.groupby('ARFCN').clusterID.sum()"
   ]
  },
  {
   "cell_type": "code",
   "execution_count": 169,
   "metadata": {},
   "outputs": [
    {
     "data": {
      "text/html": [
       "<div>\n",
       "<style scoped>\n",
       "    .dataframe tbody tr th:only-of-type {\n",
       "        vertical-align: middle;\n",
       "    }\n",
       "\n",
       "    .dataframe tbody tr th {\n",
       "        vertical-align: top;\n",
       "    }\n",
       "\n",
       "    .dataframe thead th {\n",
       "        text-align: right;\n",
       "    }\n",
       "</style>\n",
       "<table border=\"1\" class=\"dataframe\">\n",
       "  <thead>\n",
       "    <tr style=\"text-align: right;\">\n",
       "      <th></th>\n",
       "      <th>ARFCN</th>\n",
       "      <th>uPCI</th>\n",
       "      <th>uPCIfRSRP</th>\n",
       "      <th>clusterID</th>\n",
       "    </tr>\n",
       "  </thead>\n",
       "  <tbody>\n",
       "    <tr>\n",
       "      <th>0</th>\n",
       "      <td>431570</td>\n",
       "      <td>15</td>\n",
       "      <td>15</td>\n",
       "      <td>14</td>\n",
       "    </tr>\n",
       "    <tr>\n",
       "      <th>1</th>\n",
       "      <td>625324</td>\n",
       "      <td>81</td>\n",
       "      <td>75</td>\n",
       "      <td>76</td>\n",
       "    </tr>\n",
       "    <tr>\n",
       "      <th>2</th>\n",
       "      <td>631000</td>\n",
       "      <td>137</td>\n",
       "      <td>123</td>\n",
       "      <td>123</td>\n",
       "    </tr>\n",
       "    <tr>\n",
       "      <th>3</th>\n",
       "      <td>636000</td>\n",
       "      <td>44</td>\n",
       "      <td>5</td>\n",
       "      <td>2</td>\n",
       "    </tr>\n",
       "  </tbody>\n",
       "</table>\n",
       "</div>"
      ],
      "text/plain": [
       "    ARFCN  uPCI  uPCIfRSRP  clusterID\n",
       "0  431570    15         15         14\n",
       "1  625324    81         75         76\n",
       "2  631000   137        123        123\n",
       "3  636000    44          5          2"
      ]
     },
     "execution_count": 169,
     "metadata": {},
     "output_type": "execute_result"
    }
   ],
   "source": [
    "summaryTable = pd.merge(uPCI, uPCIfRsrp,left_on='ARFCN', right_on='ARFCN', how='left')\n",
    "summaryTable = pd.merge(summaryTable, cellCount, left_on='ARFCN', right_on='ARFCN', how='left')\n",
    "summaryTable"
   ]
  },
  {
   "cell_type": "code",
   "execution_count": 170,
   "metadata": {},
   "outputs": [
    {
     "data": {
      "text/plain": [
       "215"
      ]
     },
     "execution_count": 170,
     "metadata": {},
     "output_type": "execute_result"
    }
   ],
   "source": [
    "cellCount['clusterID'].sum()"
   ]
  },
  {
   "cell_type": "code",
   "execution_count": 171,
   "metadata": {},
   "outputs": [],
   "source": [
    "#calculate the estimated lat lon on cell level which means on operatorBand, PCI, clusterID\n",
    "tLocation = list()\n",
    "for oprBand in tMergeCluster['ARFCN'].unique():\n",
    "    #get unique PCI on oprBands level\n",
    "    for tpci in tMergeCluster[tMergeCluster['ARFCN'] == oprBand]['PCI'].unique():\n",
    "        tdf = tMergeCluster[(tMergeCluster['ARFCN'] == oprBand) & (tMergeCluster['PCI'] == tpci)]\n",
    "        #get the estimated location of the cell location \n",
    "        for cluster in range((tdf['clusterID'].max())+1):\n",
    "            lat = tdf[tdf['clusterID'] == cluster].sort_values(['RSRP'], ascending = False).head(5)['Longitude'].mean()\n",
    "            lon = tdf[tdf['clusterID'] == cluster].sort_values(['RSRP'], ascending = False).head(5)['Latitude'].mean()\n",
    "            d = {'ARFCN': oprBand, 'PCI': tpci, 'clusterID': cluster,'lon': lon, 'lat': lat}\n",
    "            tLocation.append(pd.DataFrame(d, index=[0]))\n",
    "            \n",
    "tLocation = pd.concat(tLocation)"
   ]
  },
  {
   "cell_type": "code",
   "execution_count": 172,
   "metadata": {
    "scrolled": true
   },
   "outputs": [
    {
     "data": {
      "text/html": [
       "<div>\n",
       "<style scoped>\n",
       "    .dataframe tbody tr th:only-of-type {\n",
       "        vertical-align: middle;\n",
       "    }\n",
       "\n",
       "    .dataframe tbody tr th {\n",
       "        vertical-align: top;\n",
       "    }\n",
       "\n",
       "    .dataframe thead th {\n",
       "        text-align: right;\n",
       "    }\n",
       "</style>\n",
       "<table border=\"1\" class=\"dataframe\">\n",
       "  <thead>\n",
       "    <tr style=\"text-align: right;\">\n",
       "      <th></th>\n",
       "      <th>ARFCN</th>\n",
       "      <th>PCI</th>\n",
       "      <th>clusterID</th>\n",
       "      <th>lon</th>\n",
       "      <th>lat</th>\n",
       "    </tr>\n",
       "  </thead>\n",
       "  <tbody>\n",
       "    <tr>\n",
       "      <th>0</th>\n",
       "      <td>431570</td>\n",
       "      <td>848.0</td>\n",
       "      <td>0</td>\n",
       "      <td>25.026128</td>\n",
       "      <td>121.063524</td>\n",
       "    </tr>\n",
       "    <tr>\n",
       "      <th>0</th>\n",
       "      <td>431570</td>\n",
       "      <td>12.0</td>\n",
       "      <td>0</td>\n",
       "      <td>24.997474</td>\n",
       "      <td>121.199422</td>\n",
       "    </tr>\n",
       "    <tr>\n",
       "      <th>0</th>\n",
       "      <td>431570</td>\n",
       "      <td>12.0</td>\n",
       "      <td>1</td>\n",
       "      <td>25.019118</td>\n",
       "      <td>121.220638</td>\n",
       "    </tr>\n",
       "    <tr>\n",
       "      <th>0</th>\n",
       "      <td>431570</td>\n",
       "      <td>479.0</td>\n",
       "      <td>0</td>\n",
       "      <td>25.077642</td>\n",
       "      <td>121.230356</td>\n",
       "    </tr>\n",
       "    <tr>\n",
       "      <th>0</th>\n",
       "      <td>431570</td>\n",
       "      <td>459.0</td>\n",
       "      <td>0</td>\n",
       "      <td>25.078388</td>\n",
       "      <td>121.231658</td>\n",
       "    </tr>\n",
       "    <tr>\n",
       "      <th>...</th>\n",
       "      <td>...</td>\n",
       "      <td>...</td>\n",
       "      <td>...</td>\n",
       "      <td>...</td>\n",
       "      <td>...</td>\n",
       "    </tr>\n",
       "    <tr>\n",
       "      <th>0</th>\n",
       "      <td>631000</td>\n",
       "      <td>164.0</td>\n",
       "      <td>0</td>\n",
       "      <td>24.997524</td>\n",
       "      <td>121.325082</td>\n",
       "    </tr>\n",
       "    <tr>\n",
       "      <th>0</th>\n",
       "      <td>631000</td>\n",
       "      <td>400.0</td>\n",
       "      <td>0</td>\n",
       "      <td>24.988358</td>\n",
       "      <td>121.325044</td>\n",
       "    </tr>\n",
       "    <tr>\n",
       "      <th>0</th>\n",
       "      <td>631000</td>\n",
       "      <td>266.0</td>\n",
       "      <td>0</td>\n",
       "      <td>25.017802</td>\n",
       "      <td>121.404362</td>\n",
       "    </tr>\n",
       "    <tr>\n",
       "      <th>0</th>\n",
       "      <td>636000</td>\n",
       "      <td>144.0</td>\n",
       "      <td>0</td>\n",
       "      <td>25.017278</td>\n",
       "      <td>121.402476</td>\n",
       "    </tr>\n",
       "    <tr>\n",
       "      <th>0</th>\n",
       "      <td>636000</td>\n",
       "      <td>366.0</td>\n",
       "      <td>0</td>\n",
       "      <td>25.018212</td>\n",
       "      <td>121.405944</td>\n",
       "    </tr>\n",
       "  </tbody>\n",
       "</table>\n",
       "<p>215 rows × 5 columns</p>\n",
       "</div>"
      ],
      "text/plain": [
       "     ARFCN    PCI  clusterID        lon         lat\n",
       "0   431570  848.0          0  25.026128  121.063524\n",
       "0   431570   12.0          0  24.997474  121.199422\n",
       "0   431570   12.0          1  25.019118  121.220638\n",
       "0   431570  479.0          0  25.077642  121.230356\n",
       "0   431570  459.0          0  25.078388  121.231658\n",
       "..     ...    ...        ...        ...         ...\n",
       "0   631000  164.0          0  24.997524  121.325082\n",
       "0   631000  400.0          0  24.988358  121.325044\n",
       "0   631000  266.0          0  25.017802  121.404362\n",
       "0   636000  144.0          0  25.017278  121.402476\n",
       "0   636000  366.0          0  25.018212  121.405944\n",
       "\n",
       "[215 rows x 5 columns]"
      ]
     },
     "execution_count": 172,
     "metadata": {},
     "output_type": "execute_result"
    }
   ],
   "source": [
    "tLocation"
   ]
  },
  {
   "cell_type": "code",
   "execution_count": 196,
   "metadata": {},
   "outputs": [
    {
     "data": {
      "text/html": [
       "<div>\n",
       "<style scoped>\n",
       "    .dataframe tbody tr th:only-of-type {\n",
       "        vertical-align: middle;\n",
       "    }\n",
       "\n",
       "    .dataframe tbody tr th {\n",
       "        vertical-align: top;\n",
       "    }\n",
       "\n",
       "    .dataframe thead th {\n",
       "        text-align: right;\n",
       "    }\n",
       "</style>\n",
       "<table border=\"1\" class=\"dataframe\">\n",
       "  <thead>\n",
       "    <tr style=\"text-align: right;\">\n",
       "      <th></th>\n",
       "      <th>PCI</th>\n",
       "      <th>clusterID</th>\n",
       "      <th>lon</th>\n",
       "      <th>lat</th>\n",
       "    </tr>\n",
       "    <tr>\n",
       "      <th>ARFCN</th>\n",
       "      <th></th>\n",
       "      <th></th>\n",
       "      <th></th>\n",
       "      <th></th>\n",
       "    </tr>\n",
       "  </thead>\n",
       "  <tbody>\n",
       "    <tr>\n",
       "      <th>431570</th>\n",
       "      <td>14</td>\n",
       "      <td>14</td>\n",
       "      <td>14</td>\n",
       "      <td>14</td>\n",
       "    </tr>\n",
       "    <tr>\n",
       "      <th>625324</th>\n",
       "      <td>76</td>\n",
       "      <td>76</td>\n",
       "      <td>76</td>\n",
       "      <td>76</td>\n",
       "    </tr>\n",
       "    <tr>\n",
       "      <th>631000</th>\n",
       "      <td>123</td>\n",
       "      <td>123</td>\n",
       "      <td>123</td>\n",
       "      <td>123</td>\n",
       "    </tr>\n",
       "    <tr>\n",
       "      <th>636000</th>\n",
       "      <td>2</td>\n",
       "      <td>2</td>\n",
       "      <td>2</td>\n",
       "      <td>2</td>\n",
       "    </tr>\n",
       "  </tbody>\n",
       "</table>\n",
       "</div>"
      ],
      "text/plain": [
       "        PCI  clusterID  lon  lat\n",
       "ARFCN                           \n",
       "431570   14         14   14   14\n",
       "625324   76         76   76   76\n",
       "631000  123        123  123  123\n",
       "636000    2          2    2    2"
      ]
     },
     "execution_count": 196,
     "metadata": {},
     "output_type": "execute_result"
    }
   ],
   "source": [
    "tLocation.groupby('ARFCN').count()"
   ]
  }
 ],
 "metadata": {
  "kernelspec": {
   "display_name": "Python 3",
   "language": "python",
   "name": "python3"
  },
  "language_info": {
   "codemirror_mode": {
    "name": "ipython",
    "version": 3
   },
   "file_extension": ".py",
   "mimetype": "text/x-python",
   "name": "python",
   "nbconvert_exporter": "python",
   "pygments_lexer": "ipython3",
   "version": "3.7.4"
  }
 },
 "nbformat": 4,
 "nbformat_minor": 4
}
